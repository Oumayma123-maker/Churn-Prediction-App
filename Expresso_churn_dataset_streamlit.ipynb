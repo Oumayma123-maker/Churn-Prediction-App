{
  "cells": [
    {
      "cell_type": "code",
      "execution_count": 1,
      "metadata": {
        "id": "SOi6rDUqm4GK",
        "colab": {
          "base_uri": "https://localhost:8080/"
        },
        "outputId": "d26cec6b-564e-4a6d-ef34-c7477d96cd25"
      },
      "outputs": [
        {
          "output_type": "stream",
          "name": "stdout",
          "text": [
            "\u001b[K\u001b[?25h\n",
            "up to date, audited 23 packages in 680ms\n",
            "\n",
            "3 packages are looking for funding\n",
            "  run `npm fund` for details\n",
            "\n",
            "2 \u001b[33m\u001b[1mmoderate\u001b[22m\u001b[39m severity vulnerabilities\n",
            "\n",
            "To address all issues (including breaking changes), run:\n",
            "  npm audit fix --force\n",
            "\n",
            "Run `npm audit` for details.\n"
          ]
        }
      ],
      "source": [
        "!npm install localtunnel"
      ]
    },
    {
      "cell_type": "code",
      "execution_count": 2,
      "metadata": {
        "id": "jFa0E-TgnlCX",
        "colab": {
          "base_uri": "https://localhost:8080/"
        },
        "outputId": "fbb157c7-c3a9-4c27-926e-3a36d60fbb4d"
      },
      "outputs": [
        {
          "output_type": "stream",
          "name": "stdout",
          "text": [
            "Requirement already satisfied: streamlit in /usr/local/lib/python3.10/dist-packages (1.38.0)\n",
            "Requirement already satisfied: altair<6,>=4.0 in /usr/local/lib/python3.10/dist-packages (from streamlit) (4.2.2)\n",
            "Requirement already satisfied: blinker<2,>=1.0.0 in /usr/lib/python3/dist-packages (from streamlit) (1.4)\n",
            "Requirement already satisfied: cachetools<6,>=4.0 in /usr/local/lib/python3.10/dist-packages (from streamlit) (5.5.0)\n",
            "Requirement already satisfied: click<9,>=7.0 in /usr/local/lib/python3.10/dist-packages (from streamlit) (8.1.7)\n",
            "Requirement already satisfied: numpy<3,>=1.20 in /usr/local/lib/python3.10/dist-packages (from streamlit) (1.26.4)\n",
            "Requirement already satisfied: packaging<25,>=20 in /usr/local/lib/python3.10/dist-packages (from streamlit) (24.1)\n",
            "Requirement already satisfied: pandas<3,>=1.3.0 in /usr/local/lib/python3.10/dist-packages (from streamlit) (2.1.4)\n",
            "Requirement already satisfied: pillow<11,>=7.1.0 in /usr/local/lib/python3.10/dist-packages (from streamlit) (10.4.0)\n",
            "Requirement already satisfied: protobuf<6,>=3.20 in /usr/local/lib/python3.10/dist-packages (from streamlit) (3.20.3)\n",
            "Requirement already satisfied: pyarrow>=7.0 in /usr/local/lib/python3.10/dist-packages (from streamlit) (14.0.2)\n",
            "Requirement already satisfied: requests<3,>=2.27 in /usr/local/lib/python3.10/dist-packages (from streamlit) (2.32.3)\n",
            "Requirement already satisfied: rich<14,>=10.14.0 in /usr/local/lib/python3.10/dist-packages (from streamlit) (13.8.1)\n",
            "Requirement already satisfied: tenacity<9,>=8.1.0 in /usr/local/lib/python3.10/dist-packages (from streamlit) (8.5.0)\n",
            "Requirement already satisfied: toml<2,>=0.10.1 in /usr/local/lib/python3.10/dist-packages (from streamlit) (0.10.2)\n",
            "Requirement already satisfied: typing-extensions<5,>=4.3.0 in /usr/local/lib/python3.10/dist-packages (from streamlit) (4.12.2)\n",
            "Requirement already satisfied: gitpython!=3.1.19,<4,>=3.0.7 in /usr/local/lib/python3.10/dist-packages (from streamlit) (3.1.43)\n",
            "Requirement already satisfied: pydeck<1,>=0.8.0b4 in /usr/local/lib/python3.10/dist-packages (from streamlit) (0.9.1)\n",
            "Requirement already satisfied: tornado<7,>=6.0.3 in /usr/local/lib/python3.10/dist-packages (from streamlit) (6.3.3)\n",
            "Requirement already satisfied: watchdog<5,>=2.1.5 in /usr/local/lib/python3.10/dist-packages (from streamlit) (4.0.2)\n",
            "Requirement already satisfied: entrypoints in /usr/local/lib/python3.10/dist-packages (from altair<6,>=4.0->streamlit) (0.4)\n",
            "Requirement already satisfied: jinja2 in /usr/local/lib/python3.10/dist-packages (from altair<6,>=4.0->streamlit) (3.1.4)\n",
            "Requirement already satisfied: jsonschema>=3.0 in /usr/local/lib/python3.10/dist-packages (from altair<6,>=4.0->streamlit) (4.23.0)\n",
            "Requirement already satisfied: toolz in /usr/local/lib/python3.10/dist-packages (from altair<6,>=4.0->streamlit) (0.12.1)\n",
            "Requirement already satisfied: gitdb<5,>=4.0.1 in /usr/local/lib/python3.10/dist-packages (from gitpython!=3.1.19,<4,>=3.0.7->streamlit) (4.0.11)\n",
            "Requirement already satisfied: python-dateutil>=2.8.2 in /usr/local/lib/python3.10/dist-packages (from pandas<3,>=1.3.0->streamlit) (2.8.2)\n",
            "Requirement already satisfied: pytz>=2020.1 in /usr/local/lib/python3.10/dist-packages (from pandas<3,>=1.3.0->streamlit) (2024.2)\n",
            "Requirement already satisfied: tzdata>=2022.1 in /usr/local/lib/python3.10/dist-packages (from pandas<3,>=1.3.0->streamlit) (2024.1)\n",
            "Requirement already satisfied: charset-normalizer<4,>=2 in /usr/local/lib/python3.10/dist-packages (from requests<3,>=2.27->streamlit) (3.3.2)\n",
            "Requirement already satisfied: idna<4,>=2.5 in /usr/local/lib/python3.10/dist-packages (from requests<3,>=2.27->streamlit) (3.10)\n",
            "Requirement already satisfied: urllib3<3,>=1.21.1 in /usr/local/lib/python3.10/dist-packages (from requests<3,>=2.27->streamlit) (2.2.3)\n",
            "Requirement already satisfied: certifi>=2017.4.17 in /usr/local/lib/python3.10/dist-packages (from requests<3,>=2.27->streamlit) (2024.8.30)\n",
            "Requirement already satisfied: markdown-it-py>=2.2.0 in /usr/local/lib/python3.10/dist-packages (from rich<14,>=10.14.0->streamlit) (3.0.0)\n",
            "Requirement already satisfied: pygments<3.0.0,>=2.13.0 in /usr/local/lib/python3.10/dist-packages (from rich<14,>=10.14.0->streamlit) (2.18.0)\n",
            "Requirement already satisfied: smmap<6,>=3.0.1 in /usr/local/lib/python3.10/dist-packages (from gitdb<5,>=4.0.1->gitpython!=3.1.19,<4,>=3.0.7->streamlit) (5.0.1)\n",
            "Requirement already satisfied: MarkupSafe>=2.0 in /usr/local/lib/python3.10/dist-packages (from jinja2->altair<6,>=4.0->streamlit) (2.1.5)\n",
            "Requirement already satisfied: attrs>=22.2.0 in /usr/local/lib/python3.10/dist-packages (from jsonschema>=3.0->altair<6,>=4.0->streamlit) (24.2.0)\n",
            "Requirement already satisfied: jsonschema-specifications>=2023.03.6 in /usr/local/lib/python3.10/dist-packages (from jsonschema>=3.0->altair<6,>=4.0->streamlit) (2023.12.1)\n",
            "Requirement already satisfied: referencing>=0.28.4 in /usr/local/lib/python3.10/dist-packages (from jsonschema>=3.0->altair<6,>=4.0->streamlit) (0.35.1)\n",
            "Requirement already satisfied: rpds-py>=0.7.1 in /usr/local/lib/python3.10/dist-packages (from jsonschema>=3.0->altair<6,>=4.0->streamlit) (0.20.0)\n",
            "Requirement already satisfied: mdurl~=0.1 in /usr/local/lib/python3.10/dist-packages (from markdown-it-py>=2.2.0->rich<14,>=10.14.0->streamlit) (0.1.2)\n",
            "Requirement already satisfied: six>=1.5 in /usr/local/lib/python3.10/dist-packages (from python-dateutil>=2.8.2->pandas<3,>=1.3.0->streamlit) (1.16.0)\n"
          ]
        }
      ],
      "source": [
        "!pip install streamlit"
      ]
    },
    {
      "cell_type": "code",
      "source": [
        "%%writefile my_streamlit_app.py\n",
        "\n",
        "import streamlit as st\n",
        "from sklearn import preprocessing\n",
        "import pandas as pd\n",
        "from sklearn.model_selection import train_test_split\n",
        "from sklearn.linear_model import LogisticRegression\n",
        "import numpy as np\n",
        "\n",
        "# Load dataset\n",
        "data = pd.read_csv('Expresso_churn_dataset.csv')\n",
        "data1 = data.copy()\n",
        "\n",
        "# Data preprocessing\n",
        "data.drop(['TIGO', 'ZONE2', 'ZONE1', 'DATA_VOLUME', 'user_id', 'TOP_PACK', 'FREQ_TOP_PACK', 'ORANGE', 'MRG'], axis=1, inplace=True)\n",
        "data['MONTANT'].fillna(data['MONTANT'].median(), inplace=True)\n",
        "data['FREQUENCE_RECH'].fillna(data['FREQUENCE_RECH'].median(), inplace=True)\n",
        "data['REVENUE'].fillna(data['REVENUE'].median(), inplace=True)\n",
        "data['ARPU_SEGMENT'].fillna(data['ARPU_SEGMENT'].median(), inplace=True)\n",
        "data['FREQUENCE'].fillna(data['FREQUENCE'].median(), inplace=True)\n",
        "data['ON_NET'].fillna(data['ON_NET'].median(), inplace=True)\n",
        "\n",
        "# Label encoding\n",
        "label_encoder = preprocessing.LabelEncoder()\n",
        "data['REGION'] = label_encoder.fit_transform(data['REGION'])\n",
        "mapping_dict_region = dict(zip(label_encoder.classes_, label_encoder.transform(label_encoder.classes_)))\n",
        "data['TENURE'] = label_encoder.fit_transform(data['TENURE'])\n",
        "mapping_dict_tenure = dict(zip(label_encoder.classes_, label_encoder.transform(label_encoder.classes_)))\n",
        "\n",
        "# Logistic Regression Model\n",
        "x = data.drop(['CHURN'], axis=1)\n",
        "y = data['CHURN']\n",
        "x_train, x_test, y_train, y_test = train_test_split(x, y, test_size=0.25, random_state=42)\n",
        "logreg = LogisticRegression()\n",
        "logreg.fit(x_train, y_train)\n",
        "\n",
        "# Streamlit page configuration\n",
        "st.set_page_config(page_title=\"Churn Prediction App\", page_icon=\"💻\", layout=\"wide\")\n",
        "\n",
        "# Custom HTML & CSS for enhanced decoration and colors\n",
        "st.markdown(\"\"\"\n",
        "    <style>\n",
        "    /* Background Gradient */\n",
        "    .stApp {\n",
        "        background-image: linear-gradient(to right, #FFDEE9, #B5FFFC);\n",
        "        color: #333333;\n",
        "    }\n",
        "\n",
        "    /* Title Styling */\n",
        "    h1 {\n",
        "        color: #FF6347;\n",
        "        text-align: center;\n",
        "        font-family: 'Comic Sans MS', cursive, sans-serif;\n",
        "        font-size: 48px;\n",
        "        text-shadow: 2px 2px #FF1493;\n",
        "    }\n",
        "\n",
        "    /* Button Styling */\n",
        "    .stButton button {\n",
        "        background-color: #FF69B4;\n",
        "        color: white;\n",
        "        font-size: 18px;\n",
        "        padding: 10px 20px;\n",
        "        border-radius: 10px;\n",
        "        border: 2px solid #FF1493;\n",
        "    }\n",
        "\n",
        "    /* Input boxes */\n",
        "    .stSelectbox, .stNumberInput {\n",
        "        background-color: #FFFACD;\n",
        "        border: 2px solid #FF69B4;\n",
        "        border-radius: 5px;\n",
        "        padding: 5px;\n",
        "        color: #333333;\n",
        "        font-size: 16px;\n",
        "    }\n",
        "\n",
        "    /* Prediction output styling */\n",
        "    .churn-yes {\n",
        "        color: #FF4500;\n",
        "        font-size: 36px;\n",
        "        font-weight: bold;\n",
        "        text-align: center;\n",
        "        background-color: #FFDEAD;\n",
        "        padding: 10px;\n",
        "        border-radius: 10px;\n",
        "    }\n",
        "\n",
        "    .churn-no {\n",
        "        color: #32CD32;\n",
        "        font-size: 36px;\n",
        "        font-weight: bold;\n",
        "        text-align: center;\n",
        "        background-color: #98FB98;\n",
        "        padding: 10px;\n",
        "        border-radius: 10px;\n",
        "    }\n",
        "\n",
        "    </style>\n",
        "\"\"\", unsafe_allow_html=True)\n",
        "\n",
        "# Title with Emoji 🎉\n",
        "st.markdown(\"<h1>Churn Prediction App 💻🎉</h1>\", unsafe_allow_html=True)\n",
        "\n",
        "# User options\n",
        "choice = st.selectbox('Choose an option:', ('📊 Visualize', '🔮 Predict'))\n",
        "\n",
        "if choice == '🔮 Predict':\n",
        "    # Inputs for prediction with emojis 🎯\n",
        "    st.markdown(\"<h3 style='color:#FF69B4;'>🎯 Enter Customer Details for Prediction:</h3>\", unsafe_allow_html=True)\n",
        "\n",
        "    region = st.selectbox('🌍 Select your region', data1['REGION'].unique())\n",
        "    region_map = mapping_dict_region[region]\n",
        "    TENURE = st.selectbox('⏳ Select your tenure', data1['TENURE'].unique())\n",
        "    tenure_map = mapping_dict_tenure[TENURE]\n",
        "    MONTANT = st.number_input('💰 Enter Montant', min_value=0.0, step=0.01)\n",
        "    FREQUENCE = st.number_input('🔄 Enter FREQUENCE', min_value=0.0, step=0.01)\n",
        "    REVENUE = st.number_input('📈 Enter REVENUE', min_value=0.0, step=0.01)\n",
        "    ARPU_SEGMENT = st.number_input('📊 Enter ARPU_SEGMENT', min_value=0.0, step=0.01)\n",
        "    FREQUENCE_RECH = st.number_input('🔄 Enter FREQUENCE_RECH', min_value=0.0, step=0.01)\n",
        "    ON_NET = st.number_input('📶 Enter ON_NET', min_value=0.0, step=0.01)\n",
        "    REGULARITY = st.number_input('🔁 Enter Regularity', min_value=0.0, step=0.01)\n",
        "\n",
        "\n",
        "    my_dict0 ={'REGION': region, 'TENURE' : TENURE , 'MONTANT' : MONTANT,\n",
        "         'FREQUENCE_RECH': FREQUENCE_RECH , 'REVENUE' : REVENUE,\n",
        "          'ARPU_SEGMENT': ARPU_SEGMENT , 'FREQUENCE':FREQUENCE,\n",
        "          'ON_NET': ON_NET , 'REGULARITY':REGULARITY}\n",
        "    my_dict= {'REGION': region_map,\n",
        "        'TENURE': tenure_map,\n",
        "        'MONTANT': MONTANT,\n",
        "        'FREQUENCE_RECH': FREQUENCE_RECH,\n",
        "        'REVENUE': REVENUE,\n",
        "        'ARPU_SEGMENT': ARPU_SEGMENT,\n",
        "        'FREQUENCE':FREQUENCE,\n",
        "        'ON_NET': ON_NET,\n",
        "        'REGULARITY': REGULARITY}\n",
        "\n",
        "    data_test= pd.DataFrame(my_dict, index = [0])\n",
        "    data_test0 = pd.DataFrame(my_dict0, index = [0])\n",
        "\n",
        "\n",
        "\n",
        "    # Display the entered data with emoji 📝\n",
        "    if st.button('📝 Show My Entry'):\n",
        "        st.write(data_test0)\n",
        "\n",
        "    # Prediction output with emoji 🔮\n",
        "    if st.button('🔮 Predict'):\n",
        "        y_pred = (logreg.predict_proba(data_test)[:, 1] >= 0.7).astype(int)\n",
        "        if y_pred == 0:\n",
        "            st.markdown(\"<div class='churn-no'>🚫 No Churn</div>\", unsafe_allow_html=True)\n",
        "        else:\n",
        "            st.markdown(\"<div class='churn-yes'>⚠️ Yes, Churn</div>\", unsafe_allow_html=True)\n"
      ],
      "metadata": {
        "colab": {
          "base_uri": "https://localhost:8080/"
        },
        "id": "W6TZ3tRDrKRn",
        "outputId": "b3a1edbc-1fc1-4719-8549-44f45e2fe89d"
      },
      "execution_count": 3,
      "outputs": [
        {
          "output_type": "stream",
          "name": "stdout",
          "text": [
            "Overwriting my_streamlit_app.py\n"
          ]
        }
      ]
    },
    {
      "cell_type": "code",
      "execution_count": 4,
      "metadata": {
        "id": "D4PtgQcQ0OMs"
      },
      "outputs": [],
      "source": [
        "!streamlit run my_streamlit_app.py &>/content/logs.txt &"
      ]
    },
    {
      "cell_type": "code",
      "execution_count": null,
      "metadata": {
        "id": "Z_Y-K2yP0RL9",
        "colab": {
          "base_uri": "https://localhost:8080/"
        },
        "outputId": "5691a73a-ccd5-4be4-bba2-7eb05c02badc"
      },
      "outputs": [
        {
          "output_type": "stream",
          "name": "stdout",
          "text": [
            "your url is: https://wild-eyes-guess.loca.lt\n"
          ]
        }
      ],
      "source": [
        "!npx localtunnel --port 8501"
      ]
    }
  ],
  "metadata": {
    "colab": {
      "provenance": []
    },
    "kernelspec": {
      "display_name": "Python 3",
      "name": "python3"
    },
    "language_info": {
      "name": "python"
    }
  },
  "nbformat": 4,
  "nbformat_minor": 0
}